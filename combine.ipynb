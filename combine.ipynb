{
 "cells": [
  {
   "cell_type": "code",
   "execution_count": 1,
   "metadata": {},
   "outputs": [],
   "source": [
    "import os\n",
    "import pandas as pd"
   ]
  },
  {
   "cell_type": "code",
   "execution_count": 14,
   "metadata": {},
   "outputs": [],
   "source": [
    "def correct_iteration_ids(directory):\n",
    "    \n",
    "    csv_files = [file for file in os.listdir(directory) if file.endswith('.csv')]\n",
    "\n",
    "    for file in csv_files:\n",
    "        print(file)\n",
    "        file_path = os.path.join(directory, file)\n",
    "        \n",
    "        df = pd.read_csv(file_path, index_col=0)\n",
    "        \n",
    "        expected_ids = list(range(1, len(df) + 1))\n",
    "        current_ids = df['iterationID'].tolist()\n",
    "        \n",
    "        if current_ids != expected_ids:\n",
    "            \n",
    "            df['iterationID'] = expected_ids\n",
    "            corrected_file_path = os.path.join(directory, f\"corrected_{file}\")\n",
    "            df.to_csv(file_path)\n",
    "            # print(f\"Corrected {file} and saved as corrected_{file}\")\n",
    "            \n",
    "        else:\n",
    "            df.to_csv(file_path)\n",
    "            # print(f\"{file} has consecutive iterationIDs. No changes needed.\")"
   ]
  },
  {
   "cell_type": "code",
   "execution_count": 15,
   "metadata": {},
   "outputs": [
    {
     "name": "stdout",
     "output_type": "stream",
     "text": [
      "Warren-GEI.csv\n",
      "Interview-9-2014-POST-1.csv\n",
      "SOI-Interview-7-2014-POST-1.csv\n",
      "Craig-Carolyn-GEI-Transcript.csv\n",
      "Juanita-GEI-PRE.csv\n",
      "Gideon-Patrice-GEI-Transcript.csv\n",
      "Ken-SOI-2014-POST-1.csv\n",
      "Robert-GEI-1.csv\n",
      "Steve-SOI-2014-PRE-updated-3.csv\n",
      "Cody-and-Ian-interview-excerpts.csv\n",
      "Mark-SOI-2014-POST-2.csv\n",
      "Kathleen-US-Letter-1.csv\n",
      "Gretchen-US-Letter-1.csv\n"
     ]
    }
   ],
   "source": [
    "directory_path = 'text_cleaned_csv'\n",
    "correct_iteration_ids(directory_path)"
   ]
  },
  {
   "cell_type": "code",
   "execution_count": null,
   "metadata": {},
   "outputs": [],
   "source": []
  }
 ],
 "metadata": {
  "kernelspec": {
   "display_name": "deep",
   "language": "python",
   "name": "python3"
  },
  "language_info": {
   "codemirror_mode": {
    "name": "ipython",
    "version": 3
   },
   "file_extension": ".py",
   "mimetype": "text/x-python",
   "name": "python",
   "nbconvert_exporter": "python",
   "pygments_lexer": "ipython3",
   "version": "3.8.18"
  }
 },
 "nbformat": 4,
 "nbformat_minor": 2
}
